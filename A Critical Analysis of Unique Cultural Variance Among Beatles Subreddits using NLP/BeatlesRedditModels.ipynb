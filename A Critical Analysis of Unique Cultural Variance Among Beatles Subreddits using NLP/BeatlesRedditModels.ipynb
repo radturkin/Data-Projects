{
  "nbformat": 4,
  "nbformat_minor": 0,
  "metadata": {
    "colab": {
      "provenance": []
    },
    "kernelspec": {
      "name": "python3",
      "display_name": "Python 3"
    },
    "language_info": {
      "name": "python"
    }
  },
  "cells": [
    {
      "cell_type": "code",
      "execution_count": 31,
      "metadata": {
        "id": "kYbTVN0cyuEj"
      },
      "outputs": [],
      "source": [
        "import pandas as pd\n",
        "from sklearn.linear_model import LogisticRegression\n",
        "from sklearn.pipeline import Pipeline\n",
        "from sklearn.preprocessing import StandardScaler\n",
        "from sklearn.model_selection import train_test_split\n",
        "from sklearn.metrics import confusion_matrix, f1_score\n",
        "import seaborn as sns\n",
        "import matplotlib.pyplot as plt\n",
        "from sklearn.model_selection import GridSearchCV\n",
        "import numpy as np\n",
        "from sklearn.feature_extraction.text import CountVectorizer, TfidfVectorizer\n",
        "import spacy\n",
        "from sklearn.ensemble import RandomForestClassifier\n",
        "from sklearn.neighbors import KNeighborsClassifier\n",
        "from sklearn.svm import SVC"
      ]
    },
    {
      "cell_type": "code",
      "source": [
        "df=pd.read_csv(\"/content/beatlesfull.csv\")"
      ],
      "metadata": {
        "id": "nUThzhWwy4eA"
      },
      "execution_count": 2,
      "outputs": []
    },
    {
      "cell_type": "code",
      "source": [
        "df[\"sub\"]=df['subreddit'].apply(lambda x : 0 if x==\"beatlescirclejerk\" else (1 if x==\"TheBeatles\" else 2))"
      ],
      "metadata": {
        "id": "dguK-UePy6lZ"
      },
      "execution_count": 3,
      "outputs": []
    },
    {
      "cell_type": "code",
      "source": [
        "X=df[\"all_words\"]\n",
        "y=df['sub']"
      ],
      "metadata": {
        "id": "OZ3n5q1QzL7C"
      },
      "execution_count": 4,
      "outputs": []
    },
    {
      "cell_type": "code",
      "source": [
        "nlp = spacy.load('en_core_web_sm')"
      ],
      "metadata": {
        "id": "1NDnazyDzOYQ"
      },
      "execution_count": 5,
      "outputs": []
    },
    {
      "cell_type": "code",
      "source": [
        "def lemmatizer(sentence):\n",
        "  doc = nlp(sentence)\n",
        "  # for word in doc:\n",
        "  #   if word.is_alpha:\n",
        "\n",
        "  return [word.lemma_ for word in doc if word.is_alpha]\n",
        "\n",
        "\n",
        "#count vectorizer\n",
        "cvect = CountVectorizer(tokenizer = lemmatizer, max_features = 500)\n",
        "\n",
        "#transform\n",
        "# cvect.fit_transform(X_test)"
      ],
      "metadata": {
        "id": "F1h7ETUgzTh2"
      },
      "execution_count": 6,
      "outputs": []
    },
    {
      "cell_type": "code",
      "source": [
        "X_train, X_test, y_train, y_test = train_test_split(X, y, test_size=.25)\n"
      ],
      "metadata": {
        "id": "hzP85sOGzWsM"
      },
      "execution_count": 7,
      "outputs": []
    },
    {
      "cell_type": "code",
      "source": [
        "model_dic={}"
      ],
      "metadata": {
        "id": "XSlKrMOKBDaN"
      },
      "execution_count": 17,
      "outputs": []
    },
    {
      "cell_type": "code",
      "source": [
        "def run_model(pipe, model_name):\n",
        "  nlppipe=pipe\n",
        "  nlppipe.fit(X_train,y_train)\n",
        "  train_score=nlppipe.score(X_train,y_train)\n",
        "  test_score=nlppipe.score(X_test,y_test)\n",
        "\n",
        "  print(f\"{pipe} \\n\\nscore on train data: {train_score}\")\n",
        "\n",
        "  print(f\"\\n\\nscore on test data: {test_score}\")\n",
        "  try:\n",
        "    coefs = nlppipe.named_steps['clf'].coef_\n",
        "\n",
        "    words = nlppipe.named_steps['cvect'].get_feature_names_out()\n",
        "\n",
        "    df = pd.DataFrame({'coefs': coefs[0], 'words': words})\n",
        "\n",
        "    df.nlargest(10, 'coefs').plot(kind='barh', x='words', y='coefs')\n",
        "  except:\n",
        "      print(\"no dice, or coef_\")\n",
        "  y_pred=pipe.predict(X_test)\n",
        "  print(confusion_matrix(y_test, y_pred))\n",
        "  f1_scoret=f1_score(y_pred,y_test, average=\"weighted\")\n",
        "  model_dic[model_name] = {'model': model_name, 'train_score': train_score, 'test_score': test_score, \"f1_score\": f1_scoret}\n",
        "\n",
        "#put them in dataframe with words\"\n",
        "\n",
        "\n",
        "\n",
        "\n",
        "  return"
      ],
      "metadata": {
        "id": "p3QBLhDLzjH2"
      },
      "execution_count": 42,
      "outputs": []
    },
    {
      "cell_type": "markdown",
      "source": [
        "TF-IDF with Logistic Regression"
      ],
      "metadata": {
        "id": "RL-K3dTf0ZPT"
      }
    },
    {
      "cell_type": "code",
      "source": [
        "pipetf_lr = Pipeline(\n",
        "    steps=[\n",
        "        ('cvect', TfidfVectorizer(max_features=3000)),\n",
        "        ('clf', LogisticRegression())\n",
        "    ]\n",
        ")"
      ],
      "metadata": {
        "id": "KKqUSarPzqHn"
      },
      "execution_count": 43,
      "outputs": []
    },
    {
      "cell_type": "code",
      "source": [
        "run_model(pipetf_lr, \"LogRegression\")"
      ],
      "metadata": {
        "colab": {
          "base_uri": "https://localhost:8080/",
          "height": 604
        },
        "id": "S9e-GRDr0Xpu",
        "outputId": "3cc0343b-b2ba-466f-caf3-52c6a1201d6b"
      },
      "execution_count": 44,
      "outputs": [
        {
          "output_type": "stream",
          "name": "stdout",
          "text": [
            "Pipeline(steps=[('cvect', TfidfVectorizer(max_features=3000)),\n",
            "                ('clf', LogisticRegression())]) \n",
            "\n",
            "score on train data: 0.9128888888888889\n",
            "\n",
            "\n",
            "score on test data: 0.6\n",
            "[[98 17  9]\n",
            " [ 5 68 57]\n",
            " [18 44 59]]\n"
          ]
        },
        {
          "output_type": "display_data",
          "data": {
            "text/plain": [
              "<Figure size 640x480 with 1 Axes>"
            ],
            "image/png": "[encoded data removed]"
          },
          "metadata": {}
        }
      ]
    },
    {
      "cell_type": "code",
      "source": [
        "pipetf_rf = Pipeline(\n",
        "    steps=[\n",
        "        ('cvect', TfidfVectorizer(max_features=3000)),\n",
        "        ('clf', RandomForestClassifier(n_estimators=1000))\n",
        "    ]\n",
        ")"
      ],
      "metadata": {
        "id": "sbQHdjuH0kTH"
      },
      "execution_count": 45,
      "outputs": []
    },
    {
      "cell_type": "code",
      "source": [
        "run_model(pipetf_rf, \"randomforest\")"
      ],
      "metadata": {
        "colab": {
          "base_uri": "https://localhost:8080/"
        },
        "id": "c7KAgAik1jGS",
        "outputId": "ba440fde-1271-4339-b96d-6c68ede1a4f0"
      },
      "execution_count": 46,
      "outputs": [
        {
          "output_type": "stream",
          "name": "stdout",
          "text": [
            "Pipeline(steps=[('cvect', TfidfVectorizer(max_features=3000)),\n",
            "                ('clf', RandomForestClassifier(n_estimators=1000))]) \n",
            "\n",
            "score on train data: 0.9991111111111111\n",
            "\n",
            "\n",
            "score on test data: 0.5893333333333334\n",
            "no dice, or coef_\n",
            "[[93 25  6]\n",
            " [ 8 71 51]\n",
            " [19 45 57]]\n"
          ]
        }
      ]
    },
    {
      "cell_type": "code",
      "source": [
        "pipetf_kn = Pipeline(\n",
        "    steps=[\n",
        "        ('cvect', TfidfVectorizer(max_features=3000)),\n",
        "        ('clf', KNeighborsClassifier(n_neighbors=9))\n",
        "    ]\n",
        ")"
      ],
      "metadata": {
        "id": "vBnqqkVG1o0B"
      },
      "execution_count": 47,
      "outputs": []
    },
    {
      "cell_type": "code",
      "source": [
        "run_model(pipetf_kn,\"knn_class\")"
      ],
      "metadata": {
        "colab": {
          "base_uri": "https://localhost:8080/"
        },
        "id": "yasBNbj1a67V",
        "outputId": "712de4a8-a29c-45de-fec7-0ac6f5d22059"
      },
      "execution_count": 48,
      "outputs": [
        {
          "output_type": "stream",
          "name": "stdout",
          "text": [
            "Pipeline(steps=[('cvect', TfidfVectorizer(max_features=3000)),\n",
            "                ('clf', KNeighborsClassifier(n_neighbors=9))]) \n",
            "\n",
            "score on train data: 0.7173333333333334\n",
            "\n",
            "\n",
            "score on test data: 0.584\n",
            "no dice, or coef_\n",
            "[[91 17 16]\n",
            " [ 7 55 68]\n",
            " [15 33 73]]\n"
          ]
        }
      ]
    },
    {
      "cell_type": "code",
      "source": [
        "pipetf_svc = Pipeline(\n",
        "    steps=[\n",
        "        ('cvect', TfidfVectorizer(max_features=3000)),\n",
        "        ('clf', SVC())\n",
        "    ]\n",
        ")"
      ],
      "metadata": {
        "id": "sJlCVjslbC3N"
      },
      "execution_count": 49,
      "outputs": []
    },
    {
      "cell_type": "code",
      "source": [
        "run_model(pipetf_svc, \"svc\")"
      ],
      "metadata": {
        "colab": {
          "base_uri": "https://localhost:8080/"
        },
        "id": "BaDPUVNMb7lR",
        "outputId": "c0cfc911-5ab5-44bd-b7d1-7dcb67f5cbdf"
      },
      "execution_count": 50,
      "outputs": [
        {
          "output_type": "stream",
          "name": "stdout",
          "text": [
            "Pipeline(steps=[('cvect', TfidfVectorizer(max_features=3000)), ('clf', SVC())]) \n",
            "\n",
            "score on train data: 0.9875555555555555\n",
            "\n",
            "\n",
            "score on test data: 0.5946666666666667\n",
            "no dice, or coef_\n",
            "[[92 22 10]\n",
            " [ 4 72 54]\n",
            " [17 45 59]]\n"
          ]
        }
      ]
    },
    {
      "cell_type": "code",
      "source": [
        "pd.DataFrame.from_dict(model_dic)"
      ],
      "metadata": {
        "id": "sxnlTBHwcAyQ",
        "colab": {
          "base_uri": "https://localhost:8080/",
          "height": 174
        },
        "outputId": "fdc289af-9821-41d5-b5de-daeaa13558f9"
      },
      "execution_count": 51,
      "outputs": [
        {
          "output_type": "execute_result",
          "data": {
            "text/plain": [
              "             LogRegression  randomforest  knn_class       svc\n",
              "model        LogRegression  randomforest  knn_class       svc\n",
              "train_score       0.912889      0.999111   0.717333  0.987556\n",
              "test_score             0.6      0.589333      0.584  0.594667\n",
              "f1_score          0.598658      0.588425   0.582343  0.590993"
            ],
            "text/html": [
              "\n",
              "  <div id=\"df-386e41db-2f70-4c7b-ab9a-0ae3e0376a66\" class=\"colab-df-container\">\n",
              "    <div>\n",
              "<style scoped>\n",
              "    .dataframe tbody tr th:only-of-type {\n",
              "        vertical-align: middle;\n",
              "    }\n",
              "\n",
              "    .dataframe tbody tr th {\n",
              "        vertical-align: top;\n",
              "    }\n",
              "\n",
              "    .dataframe thead th {\n",
              "        text-align: right;\n",
              "    }\n",
              "</style>\n",
              "<table border=\"1\" class=\"dataframe\">\n",
              "  <thead>\n",
              "    <tr style=\"text-align: right;\">\n",
              "      <th></th>\n",
              "      <th>LogRegression</th>\n",
              "      <th>randomforest</th>\n",
              "      <th>knn_class</th>\n",
              "      <th>svc</th>\n",
              "    </tr>\n",
              "  </thead>\n",
              "  <tbody>\n",
              "    <tr>\n",
              "      <th>model</th>\n",
              "      <td>LogRegression</td>\n",
              "      <td>randomforest</td>\n",
              "      <td>knn_class</td>\n",
              "      <td>svc</td>\n",
              "    </tr>\n",
              "    <tr>\n",
              "      <th>train_score</th>\n",
              "      <td>0.912889</td>\n",
              "      <td>0.999111</td>\n",
              "      <td>0.717333</td>\n",
              "      <td>0.987556</td>\n",
              "    </tr>\n",
              "    <tr>\n",
              "      <th>test_score</th>\n",
              "      <td>0.6</td>\n",
              "      <td>0.589333</td>\n",
              "      <td>0.584</td>\n",
              "      <td>0.594667</td>\n",
              "    </tr>\n",
              "    <tr>\n",
              "      <th>f1_score</th>\n",
              "      <td>0.598658</td>\n",
              "      <td>0.588425</td>\n",
              "      <td>0.582343</td>\n",
              "      <td>0.590993</td>\n",
              "    </tr>\n",
              "  </tbody>\n",
              "</table>\n",
              "</div>\n",
              "    <div class=\"colab-df-buttons\">\n",
              "\n",
              "  <div class=\"colab-df-container\">\n",
              "    <button class=\"colab-df-convert\" onclick=\"convertToInteractive('df-386e41db-2f70-4c7b-ab9a-0ae3e0376a66')\"\n",
              "            title=\"Convert this dataframe to an interactive table.\"\n",
              "            style=\"display:none;\">\n",
              "\n",
              "  <svg xmlns=\"http://www.w3.org/2000/svg\" height=\"24px\" viewBox=\"0 -960 960 960\">\n",
              "    <path d=\"M120-120v-720h720v720H120Zm60-500h600v-160H180v160Zm220 220h160v-160H400v160Zm0 220h160v-160H400v160ZM180-400h160v-160H180v160Zm440 0h160v-160H620v160ZM180-180h160v-160H180v160Zm440 0h160v-160H620v160Z\"/>\n",
              "  </svg>\n",
              "    </button>\n",
              "\n",
              "  <style>\n",
              "    .colab-df-container {\n",
              "      display:flex;\n",
              "      gap: 12px;\n",
              "    }\n",
              "\n",
              "    .colab-df-convert {\n",
              "      background-color: #E8F0FE;\n",
              "      border: none;\n",
              "      border-radius: 50%;\n",
              "      cursor: pointer;\n",
              "      display: none;\n",
              "      fill: #1967D2;\n",
              "      height: 32px;\n",
              "      padding: 0 0 0 0;\n",
              "      width: 32px;\n",
              "    }\n",
              "\n",
              "    .colab-df-convert:hover {\n",
              "      background-color: #E2EBFA;\n",
              "      box-shadow: 0px 1px 2px rgba(60, 64, 67, 0.3), 0px 1px 3px 1px rgba(60, 64, 67, 0.15);\n",
              "      fill: #174EA6;\n",
              "    }\n",
              "\n",
              "    .colab-df-buttons div {\n",
              "      margin-bottom: 4px;\n",
              "    }\n",
              "\n",
              "    [theme=dark] .colab-df-convert {\n",
              "      background-color: #3B4455;\n",
              "      fill: #D2E3FC;\n",
              "    }\n",
              "\n",
              "    [theme=dark] .colab-df-convert:hover {\n",
              "      background-color: #434B5C;\n",
              "      box-shadow: 0px 1px 3px 1px rgba(0, 0, 0, 0.15);\n",
              "      filter: drop-shadow(0px 1px 2px rgba(0, 0, 0, 0.3));\n",
              "      fill: #FFFFFF;\n",
              "    }\n",
              "  </style>\n",
              "\n",
              "    <script>\n",
              "      const buttonEl =\n",
              "        document.querySelector('#df-386e41db-2f70-4c7b-ab9a-0ae3e0376a66 button.colab-df-convert');\n",
              "      buttonEl.style.display =\n",
              "        google.colab.kernel.accessAllowed ? 'block' : 'none';\n",
              "\n",
              "      async function convertToInteractive(key) {\n",
              "        const element = document.querySelector('#df-386e41db-2f70-4c7b-ab9a-0ae3e0376a66');\n",
              "        const dataTable =\n",
              "          await google.colab.kernel.invokeFunction('convertToInteractive',\n",
              "                                                    [key], {});\n",
              "        if (!dataTable) return;\n",
              "\n",
              "        const docLinkHtml = 'Like what you see? Visit the ' +\n",
              "          '<a target=\"_blank\" href=https://colab.research.google.com/notebooks/data_table.ipynb>data table notebook</a>'\n",
              "          + ' to learn more about interactive tables.';\n",
              "        element.innerHTML = '';\n",
              "        dataTable['output_type'] = 'display_data';\n",
              "        await google.colab.output.renderOutput(dataTable, element);\n",
              "        const docLink = document.createElement('div');\n",
              "        docLink.innerHTML = docLinkHtml;\n",
              "        element.appendChild(docLink);\n",
              "      }\n",
              "    </script>\n",
              "  </div>\n",
              "\n",
              "\n",
              "<div id=\"df-a24b9f69-6a99-4f5d-98e7-710903bbbad8\">\n",
              "  <button class=\"colab-df-quickchart\" onclick=\"quickchart('df-a24b9f69-6a99-4f5d-98e7-710903bbbad8')\"\n",
              "            title=\"Suggest charts\"\n",
              "            style=\"display:none;\">\n",
              "\n",
              "<svg xmlns=\"http://www.w3.org/2000/svg\" height=\"24px\"viewBox=\"0 0 24 24\"\n",
              "     width=\"24px\">\n",
              "    <g>\n",
              "        <path d=\"M19 3H5c-1.1 0-2 .9-2 2v14c0 1.1.9 2 2 2h14c1.1 0 2-.9 2-2V5c0-1.1-.9-2-2-2zM9 17H7v-7h2v7zm4 0h-2V7h2v10zm4 0h-2v-4h2v4z\"/>\n",
              "    </g>\n",
              "</svg>\n",
              "  </button>\n",
              "\n",
              "<style>\n",
              "  .colab-df-quickchart {\n",
              "      --bg-color: #E8F0FE;\n",
              "      --fill-color: #1967D2;\n",
              "      --hover-bg-color: #E2EBFA;\n",
              "      --hover-fill-color: #174EA6;\n",
              "      --disabled-fill-color: #AAA;\n",
              "      --disabled-bg-color: #DDD;\n",
              "  }\n",
              "\n",
              "  [theme=dark] .colab-df-quickchart {\n",
              "      --bg-color: #3B4455;\n",
              "      --fill-color: #D2E3FC;\n",
              "      --hover-bg-color: #434B5C;\n",
              "      --hover-fill-color: #FFFFFF;\n",
              "      --disabled-bg-color: #3B4455;\n",
              "      --disabled-fill-color: #666;\n",
              "  }\n",
              "\n",
              "  .colab-df-quickchart {\n",
              "    background-color: var(--bg-color);\n",
              "    border: none;\n",
              "    border-radius: 50%;\n",
              "    cursor: pointer;\n",
              "    display: none;\n",
              "    fill: var(--fill-color);\n",
              "    height: 32px;\n",
              "    padding: 0;\n",
              "    width: 32px;\n",
              "  }\n",
              "\n",
              "  .colab-df-quickchart:hover {\n",
              "    background-color: var(--hover-bg-color);\n",
              "    box-shadow: 0 1px 2px rgba(60, 64, 67, 0.3), 0 1px 3px 1px rgba(60, 64, 67, 0.15);\n",
              "    fill: var(--button-hover-fill-color);\n",
              "  }\n",
              "\n",
              "  .colab-df-quickchart-complete:disabled,\n",
              "  .colab-df-quickchart-complete:disabled:hover {\n",
              "    background-color: var(--disabled-bg-color);\n",
              "    fill: var(--disabled-fill-color);\n",
              "    box-shadow: none;\n",
              "  }\n",
              "\n",
              "  .colab-df-spinner {\n",
              "    border: 2px solid var(--fill-color);\n",
              "    border-color: transparent;\n",
              "    border-bottom-color: var(--fill-color);\n",
              "    animation:\n",
              "      spin 1s steps(1) infinite;\n",
              "  }\n",
              "\n",
              "  @keyframes spin {\n",
              "    0% {\n",
              "      border-color: transparent;\n",
              "      border-bottom-color: var(--fill-color);\n",
              "      border-left-color: var(--fill-color);\n",
              "    }\n",
              "    20% {\n",
              "      border-color: transparent;\n",
              "      border-left-color: var(--fill-color);\n",
              "      border-top-color: var(--fill-color);\n",
              "    }\n",
              "    30% {\n",
              "      border-color: transparent;\n",
              "      border-left-color: var(--fill-color);\n",
              "      border-top-color: var(--fill-color);\n",
              "      border-right-color: var(--fill-color);\n",
              "    }\n",
              "    40% {\n",
              "      border-color: transparent;\n",
              "      border-right-color: var(--fill-color);\n",
              "      border-top-color: var(--fill-color);\n",
              "    }\n",
              "    60% {\n",
              "      border-color: transparent;\n",
              "      border-right-color: var(--fill-color);\n",
              "    }\n",
              "    80% {\n",
              "      border-color: transparent;\n",
              "      border-right-color: var(--fill-color);\n",
              "      border-bottom-color: var(--fill-color);\n",
              "    }\n",
              "    90% {\n",
              "      border-color: transparent;\n",
              "      border-bottom-color: var(--fill-color);\n",
              "    }\n",
              "  }\n",
              "</style>\n",
              "\n",
              "  <script>\n",
              "    async function quickchart(key) {\n",
              "      const quickchartButtonEl =\n",
              "        document.querySelector('#' + key + ' button');\n",
              "      quickchartButtonEl.disabled = true;  // To prevent multiple clicks.\n",
              "      quickchartButtonEl.classList.add('colab-df-spinner');\n",
              "      try {\n",
              "        const charts = await google.colab.kernel.invokeFunction(\n",
              "            'suggestCharts', [key], {});\n",
              "      } catch (error) {\n",
              "        console.error('Error during call to suggestCharts:', error);\n",
              "      }\n",
              "      quickchartButtonEl.classList.remove('colab-df-spinner');\n",
              "      quickchartButtonEl.classList.add('colab-df-quickchart-complete');\n",
              "    }\n",
              "    (() => {\n",
              "      let quickchartButtonEl =\n",
              "        document.querySelector('#df-a24b9f69-6a99-4f5d-98e7-710903bbbad8 button');\n",
              "      quickchartButtonEl.style.display =\n",
              "        google.colab.kernel.accessAllowed ? 'block' : 'none';\n",
              "    })();\n",
              "  </script>\n",
              "</div>\n",
              "\n",
              "    </div>\n",
              "  </div>\n"
            ],
            "application/vnd.google.colaboratory.intrinsic+json": {
              "type": "dataframe",
              "summary": "{\n  \"name\": \"pd\",\n  \"rows\": 4,\n  \"fields\": [\n    {\n      \"column\": \"LogRegression\",\n      \"properties\": {\n        \"dtype\": \"string\",\n        \"num_unique_values\": 4,\n        \"samples\": [\n          0.9128888888888889,\n          0.5986581368825272,\n          \"LogRegression\"\n        ],\n        \"semantic_type\": \"\",\n        \"description\": \"\"\n      }\n    },\n    {\n      \"column\": \"randomforest\",\n      \"properties\": {\n        \"dtype\": \"string\",\n        \"num_unique_values\": 4,\n        \"samples\": [\n          0.9991111111111111,\n          0.588425216839542,\n          \"randomforest\"\n        ],\n        \"semantic_type\": \"\",\n        \"description\": \"\"\n      }\n    },\n    {\n      \"column\": \"knn_class\",\n      \"properties\": {\n        \"dtype\": \"string\",\n        \"num_unique_values\": 4,\n        \"samples\": [\n          0.7173333333333334,\n          0.5823427863688042,\n          \"knn_class\"\n        ],\n        \"semantic_type\": \"\",\n        \"description\": \"\"\n      }\n    },\n    {\n      \"column\": \"svc\",\n      \"properties\": {\n        \"dtype\": \"string\",\n        \"num_unique_values\": 4,\n        \"samples\": [\n          0.9875555555555555,\n          0.5909932967903192,\n          \"svc\"\n        ],\n        \"semantic_type\": \"\",\n        \"description\": \"\"\n      }\n    }\n  ]\n}"
            }
          },
          "metadata": {},
          "execution_count": 51
        }
      ]
    },
    {
      "cell_type": "code",
      "source": [],
      "metadata": {
        "id": "evKczZA2BxqU"
      },
      "execution_count": 51,
      "outputs": []
    }
  ]
}